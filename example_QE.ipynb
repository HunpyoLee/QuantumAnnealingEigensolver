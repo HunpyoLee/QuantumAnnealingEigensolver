{
 "cells": [
  {
   "cell_type": "code",
   "execution_count": 9,
   "id": "d64f6896",
   "metadata": {
    "ExecuteTime": {
     "end_time": "2024-10-07T03:40:41.356406Z",
     "start_time": "2024-10-07T03:40:41.350066Z"
    }
   },
   "outputs": [],
   "source": [
    "import numpy as np\n",
    "import scipy\n",
    "import torch.optim as optim\n",
    "import torch\n",
    "import torch.nn as nn\n",
    "from matplotlib import pyplot as plt\n",
    "from tqdm import notebook\n",
    "\n",
    "import dwave\n",
    "import dimod\n",
    "from dwave.samplers import SimulatedAnnealingSampler\n",
    "from dwave.system.composites import FixedEmbeddingComposite\n",
    "from dwave.system.samplers import DWaveSampler"
   ]
  },
  {
   "cell_type": "code",
   "execution_count": 2,
   "id": "7130b0c3",
   "metadata": {
    "ExecuteTime": {
     "end_time": "2024-10-07T03:40:02.078488Z",
     "start_time": "2024-10-07T03:40:02.074762Z"
    }
   },
   "outputs": [],
   "source": [
    "class ExactAnnealing_QE:\n",
    "    def __init__(self, H, num):\n",
    "        self.H         = H\n",
    "        self.num       = num\n",
    "        self.sampleset = []\n",
    "\n",
    "    def Eigenvector(self):\n",
    "        alpha      = 0.8\n",
    "        H          = self.H\n",
    "        N          = H.shape[0]\n",
    "        I          = np.identity(N)\n",
    "        Binary_H   = Binary_Hamiltonian(H, N)\n",
    "        Confi      = dimod.ExactSolver().sample(Binary_H).first\n",
    "        X          = np.array([Confi[0][n] + 0. for n in range(N)])\n",
    "        Lowest_E   = Energy(self.H, X)\n",
    "        Energy_set = np.zeros(self.num)\n",
    "\n",
    "        for i in range(self.num):\n",
    "            Energy_set[i] = Lowest_E\n",
    "            Diagonal      = Lowest_E * I\n",
    "            H_prime       = self.H - Diagonal\n",
    "            onsite        = 2.0 * onsite_E(H_prime, X)\n",
    "            onsite        = onsite * I\n",
    "            H_prime       = H_prime + onsite\n",
    "\n",
    "            Binary_H      = Binary_Hamiltonian(H_prime, N)\n",
    "            Confi         = dimod.ExactSolver().sample(Binary_H).first\n",
    "            Y             = np.array([Confi[0][n] + 0. for n in range(N)])\n",
    "            aubxiliary    = np.random.uniform(alpha, 2.0 - alpha , N)\n",
    "            aubxiliary    = 1.0\n",
    "            X             = X + alpha * Y * aubxiliary\n",
    "            Lowest_E      = Energy(self.H, X)\n",
    "            if Energy_set[i] < Lowest_E:\n",
    "                Lowest_E = Energy_set[i]\n",
    "                alpha    = 0.2 * alpha\n",
    "            else:\n",
    "                self.sampleset.append(Energy_set[i])\n",
    "                alpha    = 0.5\n",
    "        X = X / np.sqrt(X @ X)\n",
    "        return X\n",
    "\n",
    "    def Eigenvalue(self):\n",
    "        return min(self.sampleset)\n",
    "\n",
    "    def Convergence(self):\n",
    "        return self.sampleset"
   ]
  },
  {
   "cell_type": "code",
   "execution_count": 3,
   "id": "5c3afceb",
   "metadata": {
    "ExecuteTime": {
     "end_time": "2024-10-07T03:40:02.081411Z",
     "start_time": "2024-10-07T03:40:02.079155Z"
    }
   },
   "outputs": [],
   "source": [
    "def Binary_Hamiltonian(H, N):\n",
    "    linear    = {}\n",
    "    quadratic = {}\n",
    "    for n in range(N):\n",
    "        linear[n] = H[n][n]\n",
    "    for n in range(N):\n",
    "        for m in range(N):\n",
    "            quadratic[(n,m)] = H[n,m]\n",
    "    H = dimod.BinaryQuadraticModel(linear, quadratic, 0, vartype='SPIN')\n",
    "    return H\n",
    "\n",
    "def Energy(H, X):\n",
    "    return np.dot(X, H@X)/ np.dot(X, X)\n",
    "\n",
    "def onsite_E(H, X):\n",
    "    return H @ X"
   ]
  },
  {
   "cell_type": "code",
   "execution_count": 44,
   "id": "c89150a4",
   "metadata": {
    "ExecuteTime": {
     "end_time": "2024-10-07T04:56:46.430768Z",
     "start_time": "2024-10-07T04:56:46.408835Z"
    }
   },
   "outputs": [],
   "source": [
    "iteration   = 100\n",
    "Mat     = np.array([[1,2,3,4,-5,3,-2,4],[2,5,6,7,2,-6,1,-7],[3,6,10,8,3,-5,-4,2],\n",
    "              [4,7,8,15,1,6,8,9],[-5,2,3,1,20,3,-5,6],[3,-6,-5,6,3,-14,2,-5],\n",
    "              [-2,1,-4,8,-5,2,-7,4],[4,-7,2,9,6,-5,4,2]])\n",
    "N = 10\n",
    "np.random.seed(1)\n",
    "Mat          = np.random.random((N,N))\n",
    "Mat          = Mat + Mat.T\n",
    "eival, eivec = scipy.linalg.eigh(Mat)\n",
    "eivec        = eivec.T"
   ]
  },
  {
   "cell_type": "code",
   "execution_count": 45,
   "id": "44505fbd",
   "metadata": {
    "ExecuteTime": {
     "end_time": "2024-10-07T04:56:46.916857Z",
     "start_time": "2024-10-07T04:56:46.727998Z"
    }
   },
   "outputs": [],
   "source": [
    "iteration = 200\n",
    "QE = ExactAnnealing_QE(Mat, iteration)\n",
    "Eigenvector = QE.Eigenvector()\n",
    "Eigenvalue  = QE.Eigenvalue()"
   ]
  },
  {
   "cell_type": "code",
   "execution_count": 29,
   "id": "26d3c045",
   "metadata": {
    "ExecuteTime": {
     "end_time": "2024-10-07T03:47:27.071491Z",
     "start_time": "2024-10-07T03:47:27.060498Z"
    }
   },
   "outputs": [
    {
     "data": {
      "text/plain": [
       "array([-0.26758049,  0.26758049,  0.08704426, -0.29337138, -0.26758049,\n",
       "        0.68023474, -0.26758049,  0.39653494])"
      ]
     },
     "execution_count": 29,
     "metadata": {},
     "output_type": "execute_result"
    }
   ],
   "source": [
    "Eigenvector"
   ]
  },
  {
   "cell_type": "code",
   "execution_count": 46,
   "id": "47f5aefd",
   "metadata": {
    "ExecuteTime": {
     "end_time": "2024-10-07T04:56:49.794355Z",
     "start_time": "2024-10-07T04:56:49.780831Z"
    }
   },
   "outputs": [
    {
     "data": {
      "text/plain": [
       "0.019025173880577097"
      ]
     },
     "execution_count": 46,
     "metadata": {},
     "output_type": "execute_result"
    }
   ],
   "source": [
    "np.abs(Eigenvalue-eival[0]) / np.abs(eival[0])"
   ]
  },
  {
   "cell_type": "code",
   "execution_count": 12,
   "id": "8b1d4610",
   "metadata": {
    "ExecuteTime": {
     "end_time": "2024-10-07T03:42:09.578569Z",
     "start_time": "2024-10-07T03:42:09.571060Z"
    }
   },
   "outputs": [
    {
     "data": {
      "text/plain": [
       "-21.806907378335946"
      ]
     },
     "execution_count": 12,
     "metadata": {},
     "output_type": "execute_result"
    }
   ],
   "source": [
    "Eigenvalue"
   ]
  },
  {
   "cell_type": "code",
   "execution_count": 26,
   "id": "c8fec007",
   "metadata": {
    "ExecuteTime": {
     "end_time": "2024-10-07T03:45:43.286802Z",
     "start_time": "2024-10-07T03:45:43.270787Z"
    }
   },
   "outputs": [
    {
     "data": {
      "text/plain": [
       "[-13.25,\n",
       " -15.299180327868852,\n",
       " -16.062500000000004,\n",
       " -19.09761163032191,\n",
       " -21.16979949874687,\n",
       " -21.75077881619938,\n",
       " -21.806907378335946]"
      ]
     },
     "execution_count": 26,
     "metadata": {},
     "output_type": "execute_result"
    }
   ],
   "source": [
    "QE.Convergence()"
   ]
  },
  {
   "cell_type": "code",
   "execution_count": null,
   "id": "396d9fa8",
   "metadata": {},
   "outputs": [],
   "source": []
  }
 ],
 "metadata": {
  "kernelspec": {
   "display_name": "Python 3 (ipykernel)",
   "language": "python",
   "name": "python3"
  },
  "language_info": {
   "codemirror_mode": {
    "name": "ipython",
    "version": 3
   },
   "file_extension": ".py",
   "mimetype": "text/x-python",
   "name": "python",
   "nbconvert_exporter": "python",
   "pygments_lexer": "ipython3",
   "version": "3.11.5"
  }
 },
 "nbformat": 4,
 "nbformat_minor": 5
}
